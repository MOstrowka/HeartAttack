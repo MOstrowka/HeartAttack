{
 "cells": [
  {
   "cell_type": "code",
   "execution_count": 5,
   "id": "9d4f937a-7ff8-4200-8895-22c643404780",
   "metadata": {},
   "outputs": [
    {
     "name": "stdout",
     "output_type": "stream",
     "text": [
      "\u001b[1m10/10\u001b[0m \u001b[32m━━━━━━━━━━━━━━━━━━━━\u001b[0m\u001b[37m\u001b[0m \u001b[1m0s\u001b[0m 7ms/step\n"
     ]
    },
    {
     "name": "stderr",
     "output_type": "stream",
     "text": [
      "D:\\Programy\\Anaconda3\\Lib\\site-packages\\keras\\src\\saving\\saving_lib.py:576: UserWarning: Skipping variable loading for optimizer 'adam', because it has 22 variables whereas the saved optimizer has 2 variables. \n",
      "  saveable.load_own_variables(weights_store.get(inner_path))\n"
     ]
    }
   ],
   "source": [
    "import tensorflow as tf\n",
    "import pandas as pd\n",
    "import mlflow\n",
    "from mlflow.models.signature import infer_signature\n",
    "\n",
    "# Load the model\n",
    "model = tf.keras.models.load_model(\"Models/SavedModels/NeuralNetwork_best_model.keras\")\n",
    "\n",
    "# Load the input (X) and output (y) data\n",
    "X = pd.read_csv(\"Data/X_preprocessed.csv\")\n",
    "y = pd.read_csv(\"Data/y_preprocessed.csv\")\n",
    "\n",
    "# Generate predictions to infer output schema\n",
    "y_pred = model.predict(X)"
   ]
  },
  {
   "cell_type": "code",
   "execution_count": 6,
   "id": "6b609517-8129-4d68-a179-00757799b812",
   "metadata": {},
   "outputs": [
    {
     "name": "stdout",
     "output_type": "stream",
     "text": [
      "inputs: \n",
      "  ['Age': double (required), 'Sex': double (required), 'ChestPainType': double (required), 'RestingBloodPressure': double (required), 'Cholesterol': double (required), 'FastingBloodSugar': double (required), 'RestingECG': double (required), 'MaxHeartRate': double (required), 'ExerciseInducedAngina': double (required), 'STDepression': double (required), 'STSlope': double (required), 'NumMajorVessels': double (required), 'Thalassemia': double (required)]\n",
      "outputs: \n",
      "  [Tensor('float32', (-1, 1))]\n",
      "params: \n",
      "  None\n",
      "\n"
     ]
    }
   ],
   "source": [
    "# Infer the signature\n",
    "signature = infer_signature(X, y_pred)\n",
    "\n",
    "# Print the signature\n",
    "print(signature)"
   ]
  },
  {
   "cell_type": "code",
   "execution_count": null,
   "id": "d0aefdfb-9877-413d-86a0-acc4fec9da6d",
   "metadata": {},
   "outputs": [],
   "source": []
  }
 ],
 "metadata": {
  "kernelspec": {
   "display_name": "Python 3 (ipykernel)",
   "language": "python",
   "name": "python3"
  },
  "language_info": {
   "codemirror_mode": {
    "name": "ipython",
    "version": 3
   },
   "file_extension": ".py",
   "mimetype": "text/x-python",
   "name": "python",
   "nbconvert_exporter": "python",
   "pygments_lexer": "ipython3",
   "version": "3.12.4"
  }
 },
 "nbformat": 4,
 "nbformat_minor": 5
}
